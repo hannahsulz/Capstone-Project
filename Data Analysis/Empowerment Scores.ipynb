{
 "cells": [
  {
   "cell_type": "markdown",
   "metadata": {},
   "source": [
    "# Pull Tweets from API"
   ]
  },
  {
   "cell_type": "code",
   "execution_count": null,
   "metadata": {
    "collapsed": true
   },
   "outputs": [],
   "source": [
    "import re\n",
    "import tweepy\n",
    "from pprint import pprint \n",
    "\n",
    "twitter_data = []\n",
    "\n",
    "ckey = \"jsWoh9OfKf08Mb46jFwdItFSF\"\n",
    "csecret = \"maRiYYm5GtLZ3fgzeBz8Ly8tMiU5Y198QB5aA7auwQjbC1FoFJ\"\n",
    "atoken = \"922912381109288960-oAFDtpPtisiPWFBZVOKjVxyni64GToA\"\n",
    "asecret = \"6yqGwZ0Z0KekqHBE5AntqiLfZiPl3UGblx6gK5b4sxUhf\"\n",
    "\n",
    "OAUTH_KEYS = {'consumer_key':ckey, 'consumer_secret':csecret,\n",
    " 'access_token_key':atoken, 'access_token_secret':asecret}\n",
    "auth = tweepy.OAuthHandler(OAUTH_KEYS['consumer_key'], OAUTH_KEYS['consumer_secret'])\n",
    "api = tweepy.API(auth)\n",
    "\n",
    "# Pulls tweets from specific hashtags or tweets AT a specific account\n",
    "Tweetz = tweepy.Cursor(api.search, q='#LikeAGirl').items(4000)    \n",
    "\n",
    "# Pulls tweets from a specific account's page       \n",
    "#Tweetz = tweepy.Cursor(api.user_timeline, id='@TFMgirls').items(5000)   \n",
    "\n",
    "# Append tweets to the empty list twitter_data\n",
    "for tweet in Tweetz:\n",
    "    if (not tweet.retweeted) and ('RT @' not in tweet.text):\n",
    "\n",
    "        twitter_data.append(tweet.text)\n",
    "        \n",
    "print(len(twitter_data))\n",
    "pprint(twitter_data)\n",
    "\n",
    "      # print(tweet.created_at, tweet.text, tweet.lang)"
   ]
  },
  {
   "cell_type": "markdown",
   "metadata": {},
   "source": [
    "# Split each word to a string / Cast to lowercase"
   ]
  },
  {
   "cell_type": "code",
   "execution_count": null,
   "metadata": {
    "collapsed": true
   },
   "outputs": [],
   "source": [
    "twitter_data = [w for w in twitter_data for w in w.split()]   # splits each individual word into a string\n",
    "twitter_data = [w.lower() for w in twitter_data]              # casts all words to lowercase\n",
    "\n",
    "pprint(twitter_data[:150])"
   ]
  },
  {
   "cell_type": "markdown",
   "metadata": {},
   "source": [
    "# List word strings without punctuation / Get rid of blank strings"
   ]
  },
  {
   "cell_type": "code",
   "execution_count": null,
   "metadata": {
    "collapsed": true
   },
   "outputs": [],
   "source": [
    "twitter_data = [w.replace(\"'\", \"\") for w in twitter_data]      # Gets rid of punctuation in tweets\n",
    "twitter_data = [w.replace(\".\", \"\") for w in twitter_data]\n",
    "twitter_data = [w.replace(\"!\", \"\") for w in twitter_data]\n",
    "twitter_data = [w.replace(\"?\", \"\") for w in twitter_data]\n",
    "twitter_data = [w.replace(\":\", \"\") for w in twitter_data]\n",
    "twitter_data = [w.replace(\",\", \"\") for w in twitter_data]\n",
    "twitter_data = [w.replace(\";\", \"\") for w in twitter_data]\n",
    "twitter_data = [w.replace(\"#\", \"\") for w in twitter_data]\n",
    "\n",
    "twitter_data = [w for w in twitter_data if \"http\" not in w]    # Gets rid of media in tweets\n",
    "twitter_data = [w for w in twitter_data if \"@\" not in w]       # Gets rid of usernames or mentions in tweets\n",
    "\n",
    "twitter_data = [w for w in twitter_data if w]                  # Gets rid of blank strings"
   ]
  },
  {
   "cell_type": "code",
   "execution_count": null,
   "metadata": {
    "collapsed": true,
    "scrolled": false
   },
   "outputs": [],
   "source": [
    "pprint(twitter_data[:25])"
   ]
  },
  {
   "cell_type": "markdown",
   "metadata": {},
   "source": [
    "# Open 'bodyimage_wordlist2' / Assign scores"
   ]
  },
  {
   "cell_type": "code",
   "execution_count": null,
   "metadata": {
    "collapsed": true
   },
   "outputs": [],
   "source": [
    "filepath = '/Users/Sulz/Desktop/MSBA/Spring/Capstone/capstone-project/Data Analysis/'\n",
    "\n",
    "import csv\n",
    "\n",
    "bodyimage_wordlist = {}\n",
    "\n",
    "with open(filepath + \"bodyimage_wordlist2.csv\",'r', encoding = \"UTF-8\") as infile :\n",
    "    \n",
    " #   next(infile)\n",
    "    for line in infile.readlines() :\n",
    "        line = line.strip().split(\",\")\n",
    "        if line[1] == \"empowering\" :\n",
    "            bodyimage_wordlist[line[0]] = 1\n",
    "        else :\n",
    "            bodyimage_wordlist[line[0]] = -1"
   ]
  },
  {
   "cell_type": "markdown",
   "metadata": {},
   "source": [
    "# Print scores for 'bodyimage_wordlist2'"
   ]
  },
  {
   "cell_type": "code",
   "execution_count": null,
   "metadata": {
    "collapsed": true
   },
   "outputs": [],
   "source": [
    "for idx, word in enumerate(bodyimage_wordlist) :\n",
    "    print(\"{} has score {}.\".format(word,bodyimage_wordlist[word]))\n",
    "    if idx > 195 :\n",
    "        break"
   ]
  },
  {
   "cell_type": "markdown",
   "metadata": {},
   "source": [
    "# Make a running count of \"scores\" for each word in the Twitter data"
   ]
  },
  {
   "cell_type": "code",
   "execution_count": null,
   "metadata": {
    "collapsed": true
   },
   "outputs": [],
   "source": [
    "len(twitter_data)"
   ]
  },
  {
   "cell_type": "code",
   "execution_count": null,
   "metadata": {
    "collapsed": true
   },
   "outputs": [],
   "source": [
    "scores = [0] * len(twitter_data)                 # Why isn't this working correctly??\n",
    "current_score = 0 \n",
    "\n",
    "for idx, word in enumerate(twitter_data) :\n",
    "    if word in bodyimage_wordlist :\n",
    "        current_score += bodyimage_wordlist[word.lower()]\n",
    "    \n",
    "    scores[idx] = current_score"
   ]
  },
  {
   "cell_type": "markdown",
   "metadata": {},
   "source": [
    "# Write out list of \"scores\" to a .txt file"
   ]
  },
  {
   "cell_type": "code",
   "execution_count": null,
   "metadata": {
    "collapsed": true
   },
   "outputs": [],
   "source": [
    "with open(filepath + \"LikeAGirl_scores.txt\",'w') as ofile :\n",
    "    ofile.write(\"word\\tscore\\n\")\n",
    "    for idx, score in enumerate(scores) :\n",
    "        ofile.write(\"\\t\".join([str(idx+1),str(score)]) + \"\\n\")"
   ]
  }
 ],
 "metadata": {
  "kernelspec": {
   "display_name": "Python 3",
   "language": "python",
   "name": "python3"
  },
  "language_info": {
   "codemirror_mode": {
    "name": "ipython",
    "version": 3
   },
   "file_extension": ".py",
   "mimetype": "text/x-python",
   "name": "python",
   "nbconvert_exporter": "python",
   "pygments_lexer": "ipython3",
   "version": "3.6.3"
  }
 },
 "nbformat": 4,
 "nbformat_minor": 2
}
