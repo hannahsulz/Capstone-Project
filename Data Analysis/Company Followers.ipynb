{
 "cells": [
  {
   "cell_type": "code",
   "execution_count": 1,
   "metadata": {
    "collapsed": true
   },
   "outputs": [],
   "source": [
    "import re\n",
    "import tweepy\n",
    "from pprint import pprint \n",
    "from datetime import datetime\n",
    "from time import time"
   ]
  },
  {
   "cell_type": "code",
   "execution_count": 2,
   "metadata": {
    "collapsed": true
   },
   "outputs": [],
   "source": [
    "ckey = \"jsWoh9OfKf08Mb46jFwdItFSF\"\n",
    "csecret = \"maRiYYm5GtLZ3fgzeBz8Ly8tMiU5Y198QB5aA7auwQjbC1FoFJ\"\n",
    "atoken = \"922912381109288960-oAFDtpPtisiPWFBZVOKjVxyni64GToA\"\n",
    "asecret = \"6yqGwZ0Z0KekqHBE5AntqiLfZiPl3UGblx6gK5b4sxUhf\"\n",
    "\n",
    "OAUTH_KEYS = {'consumer_key':ckey, 'consumer_secret':csecret,\n",
    " 'access_token_key':atoken, 'access_token_secret':asecret}\n",
    "auth = tweepy.OAuthHandler(OAUTH_KEYS['consumer_key'], OAUTH_KEYS['consumer_secret'])\n",
    "api = tweepy.API(auth, wait_on_rate_limit=True)"
   ]
  },
  {
   "cell_type": "markdown",
   "metadata": {},
   "source": [
    "# This works"
   ]
  },
  {
   "cell_type": "code",
   "execution_count": 5,
   "metadata": {},
   "outputs": [
    {
     "name": "stdout",
     "output_type": "stream",
     "text": [
      "We successfully logged in\n"
     ]
    }
   ],
   "source": [
    "twitter_handle = 'Always'\n",
    "\n",
    "#list= open('twitter_followers.txt','w')\n",
    "\n",
    "if(api.verify_credentials):\n",
    "    print('We successfully logged in')\n",
    "\n",
    "#user = tweepy.Cursor(api.followers, screen_name=twitter_handle).items()\n",
    "\n",
    "for user in tweepy.Cursor(api.followers, screen_name=twitter_handle).items():\n",
    "    print(user.name)"
   ]
  },
  {
   "cell_type": "markdown",
   "metadata": {},
   "source": [
    "# Alternate Option"
   ]
  },
  {
   "cell_type": "code",
   "execution_count": null,
   "metadata": {},
   "outputs": [],
   "source": [
    "twitter_handle = 'Always'\n",
    "\n",
    "list= open('twitter_followers.txt','w')\n",
    "\n",
    "if(api.verify_credentials):\n",
    "    print('We successfully logged in')\n",
    "\n",
    "user = tweepy.Cursor(api.followers, screen_name=twitter_handle).items()\n",
    "\n",
    "while True:\n",
    "    try:\n",
    "        u = next(user)\n",
    "        list.write(u.screen_name +' \\n')\n",
    "\n",
    "    except:\n",
    "        time.sleep(15*60)\n",
    "        print('We got a timeout ... Sleeping for 15 minutes')\n",
    "        u = next(user)\n",
    "        list.write(u.screen_name +' \\n')\n",
    "list.close()"
   ]
  },
  {
   "cell_type": "code",
   "execution_count": null,
   "metadata": {
    "collapsed": true
   },
   "outputs": [],
   "source": []
  }
 ],
 "metadata": {
  "kernelspec": {
   "display_name": "Python 3",
   "language": "python",
   "name": "python3"
  },
  "language_info": {
   "codemirror_mode": {
    "name": "ipython",
    "version": 3
   },
   "file_extension": ".py",
   "mimetype": "text/x-python",
   "name": "python",
   "nbconvert_exporter": "python",
   "pygments_lexer": "ipython3",
   "version": "3.6.3"
  }
 },
 "nbformat": 4,
 "nbformat_minor": 2
}
