{
 "cells": [
  {
   "cell_type": "code",
   "execution_count": null,
   "metadata": {
    "collapsed": true
   },
   "outputs": [],
   "source": [
    "import re\n",
    "import tweepy\n",
    "from pprint import pprint \n",
    "from datetime import datetime\n",
    "from time import time"
   ]
  },
  {
   "cell_type": "code",
   "execution_count": null,
   "metadata": {
    "collapsed": true
   },
   "outputs": [],
   "source": [
    "ckey = \"jsWoh9OfKf08Mb46jFwdItFSF\"\n",
    "csecret = \"maRiYYm5GtLZ3fgzeBz8Ly8tMiU5Y198QB5aA7auwQjbC1FoFJ\"\n",
    "atoken = \"922912381109288960-oAFDtpPtisiPWFBZVOKjVxyni64GToA\"\n",
    "asecret = \"6yqGwZ0Z0KekqHBE5AntqiLfZiPl3UGblx6gK5b4sxUhf\"\n",
    "\n",
    "OAUTH_KEYS = {'consumer_key':ckey, 'consumer_secret':csecret,\n",
    " 'access_token_key':atoken, 'access_token_secret':asecret}\n",
    "auth = tweepy.OAuthHandler(OAUTH_KEYS['consumer_key'], OAUTH_KEYS['consumer_secret'])\n",
    "api = tweepy.API(auth, wait_on_rate_limit=True)"
   ]
  },
  {
   "cell_type": "markdown",
   "metadata": {},
   "source": [
    "# Pull Follower Names"
   ]
  },
  {
   "cell_type": "code",
   "execution_count": null,
   "metadata": {
    "scrolled": true
   },
   "outputs": [],
   "source": [
    "follower_names = []\n",
    "\n",
    "twitter_handle = 'Always'\n",
    "\n",
    "#list= open('twitter_followers.txt','w')\n",
    "\n",
    "if(api.verify_credentials):\n",
    "    print('We successfully logged in')\n",
    "\n",
    "#user = tweepy.Cursor(api.followers, screen_name=twitter_handle).items()\n",
    "\n",
    "for user in tweepy.Cursor(api.followers, screen_name=twitter_handle).items(100):\n",
    "    follower_names.append(user.name)\n",
    "    print(user.name)\n",
    "    "
   ]
  },
  {
   "cell_type": "code",
   "execution_count": null,
   "metadata": {},
   "outputs": [],
   "source": [
    "#follower_names = [w for w in follower_names for w in w.split()]   # splits each individual word into a string\n",
    "follower_names = [w.lower() for w in follower_names]              # casts all words to lowercase"
   ]
  },
  {
   "cell_type": "code",
   "execution_count": null,
   "metadata": {},
   "outputs": [],
   "source": [
    "follower_names = [w.replace(\"'\", \"\") for w in follower_names]      # Gets rid of punctuation in tweets\n",
    "follower_names = [w.replace(\".\", \"\") for w in follower_names]\n",
    "follower_names = [w.replace(\"!\", \"\") for w in follower_names]\n",
    "follower_names = [w.replace(\"?\", \"\") for w in follower_names]\n",
    "follower_names = [w.replace(\":\", \"\") for w in follower_names]\n",
    "follower_names = [w.replace(\",\", \"\") for w in follower_names]\n",
    "follower_names = [w.replace(\";\", \"\") for w in follower_names]\n",
    "follower_names = [w.replace(\"#\", \"\") for w in follower_names]\n",
    "follower_names = [w for w in follower_names if w]                  # Gets rid of blank strings"
   ]
  },
  {
   "cell_type": "code",
   "execution_count": null,
   "metadata": {},
   "outputs": [],
   "source": [
    "pprint(follower_names)"
   ]
  },
  {
   "cell_type": "markdown",
   "metadata": {},
   "source": [
    "# Write follower_names out to a .txt file"
   ]
  },
  {
   "cell_type": "code",
   "execution_count": null,
   "metadata": {},
   "outputs": [],
   "source": [
    "filepath = '/Users/Sulz/Desktop/MSBA/Spring/Capstone/capstone-project/Data Analysis/'\n",
    "\n",
    "with open(filepath + \"Always_followers.txt\",'w') as ofile :  \n",
    "    ofile.write(\"first\\tlast\\n\")\n",
    "    for idx, line in enumerate(follower_names) :\n",
    "        #line = line.strip().split(\"\\n\")\n",
    "        ofile.write(\"\\n\".join(line) + '\\n')"
   ]
  },
  {
   "cell_type": "code",
   "execution_count": null,
   "metadata": {
    "collapsed": true
   },
   "outputs": [],
   "source": [
    "header = ['first','last']\n",
    "with open(filepath + \"Always_followers.txt\",'w') as ofile :  \n",
    "    ofile.write('\\t'.join(header) + '\\n')\n",
    "\n",
    "    for idx, line in enumerate(follower_names) :\n",
    "\n",
    "        line = line.split(\" \")\n",
    "        ofile.write('\\t'.join(line) + '\\n')"
   ]
  },
  {
   "cell_type": "markdown",
   "metadata": {},
   "source": [
    "# Alternate Option"
   ]
  },
  {
   "cell_type": "code",
   "execution_count": null,
   "metadata": {
    "collapsed": true
   },
   "outputs": [],
   "source": [
    "twitter_handle = 'Always'\n",
    "\n",
    "list= open('twitter_followers.txt','w')\n",
    "\n",
    "if(api.verify_credentials):\n",
    "    print('We successfully logged in')\n",
    "\n",
    "user = tweepy.Cursor(api.followers, screen_name=twitter_handle).items()\n",
    "\n",
    "while True:\n",
    "    try:\n",
    "        u = next(user)\n",
    "        list.write(u.screen_name +' \\n')\n",
    "\n",
    "    except:\n",
    "        time.sleep(15*60)\n",
    "        print('We got a timeout ... Sleeping for 15 minutes')\n",
    "        u = next(user)\n",
    "        list.write(u.screen_name +' \\n')\n",
    "list.close()"
   ]
  },
  {
   "cell_type": "code",
   "execution_count": null,
   "metadata": {
    "collapsed": true
   },
   "outputs": [],
   "source": []
  }
 ],
 "metadata": {
  "kernelspec": {
   "display_name": "Python 3",
   "language": "python",
   "name": "python3"
  },
  "language_info": {
   "codemirror_mode": {
    "name": "ipython",
    "version": 3
   },
   "file_extension": ".py",
   "mimetype": "text/x-python",
   "name": "python",
   "nbconvert_exporter": "python",
   "pygments_lexer": "ipython3",
   "version": "3.6.3"
  }
 },
 "nbformat": 4,
 "nbformat_minor": 2
}
