{
 "cells": [
  {
   "cell_type": "markdown",
   "metadata": {},
   "source": [
    "# Pull Friends (of Followers) from API"
   ]
  },
  {
   "cell_type": "code",
   "execution_count": null,
   "metadata": {
    "collapsed": true
   },
   "outputs": [],
   "source": [
    "import re\n",
    "import tweepy\n",
    "from pprint import pprint \n",
    "from datetime import datetime\n",
    "from time import time\n",
    "import random\n",
    "import csv"
   ]
  },
  {
   "cell_type": "code",
   "execution_count": null,
   "metadata": {
    "collapsed": true
   },
   "outputs": [],
   "source": [
    "ckey = \"jsWoh9OfKf08Mb46jFwdItFSF\"\n",
    "csecret = \"maRiYYm5GtLZ3fgzeBz8Ly8tMiU5Y198QB5aA7auwQjbC1FoFJ\"\n",
    "atoken = \"922912381109288960-oAFDtpPtisiPWFBZVOKjVxyni64GToA\"\n",
    "asecret = \"6yqGwZ0Z0KekqHBE5AntqiLfZiPl3UGblx6gK5b4sxUhf\"\n",
    "\n",
    "OAUTH_KEYS = {'consumer_key':ckey, 'consumer_secret':csecret,\n",
    " 'access_token_key':atoken, 'access_token_secret':asecret}\n",
    "auth = tweepy.OAuthHandler(OAUTH_KEYS['consumer_key'], OAUTH_KEYS['consumer_secret'])\n",
    "api = tweepy.API(auth, wait_on_rate_limit=True)"
   ]
  },
  {
   "cell_type": "markdown",
   "metadata": {},
   "source": [
    "# Pull Friend handles"
   ]
  },
  {
   "cell_type": "code",
   "execution_count": null,
   "metadata": {},
   "outputs": [],
   "source": [
    "friend_names = []\n",
    "\n",
    "twitter_handle = 'catharticcurios'\n",
    "\n",
    "#list= open('twitter_followers.txt','w')\n",
    "\n",
    "if(api.verify_credentials):\n",
    "    print('We successfully logged in')\n",
    "\n",
    "#user = tweepy.Cursor(api.followers, screen_name=twitter_handle).items()\n",
    "\n",
    "for user in tweepy.Cursor(api.friends, screen_name=twitter_handle).items(2000):\n",
    "    friend_names.append(user.screen_name)\n",
    "   # follower_names.append(user.screen_name)\n",
    "   # print(follower_names)\n",
    "    "
   ]
  },
  {
   "cell_type": "code",
   "execution_count": null,
   "metadata": {},
   "outputs": [],
   "source": [
    "friend_names = [w.lower() for w in friend_names]              # casts all words to lowercase\n",
    "#pprint(friend_names)"
   ]
  },
  {
   "cell_type": "markdown",
   "metadata": {},
   "source": [
    "# Open 'progressivism_friendslist' / Assign scores"
   ]
  },
  {
   "cell_type": "code",
   "execution_count": null,
   "metadata": {},
   "outputs": [],
   "source": [
    "filepath = '/Users/Sulz/Desktop/MSBA/Spring/Capstone/capstone-project/Data Analysis/'\n",
    "\n",
    "import csv\n",
    "\n",
    "progressivism_friendslist = {}\n",
    "\n",
    "with open(filepath + \"progressivism_friendslist.csv\",'r', encoding = \"UTF-8\") as infile :\n",
    "    \n",
    " #   next(infile)\n",
    "    for line in infile.readlines() :\n",
    "        line = line.strip().split(\",\")\n",
    "        if line[1] == \"progressive\" :\n",
    "            progressivism_friendslist[line[0]] = 1\n",
    "        else :\n",
    "            progressivism_friendslist[line[0]] = -1"
   ]
  },
  {
   "cell_type": "markdown",
   "metadata": {},
   "source": [
    "# Print scores for 'progressivism_friendslist'"
   ]
  },
  {
   "cell_type": "code",
   "execution_count": null,
   "metadata": {},
   "outputs": [],
   "source": [
    "#for idx, word in enumerate(progressivism_friendslist) :\n",
    " #   print(\"{} has score {}.\".format(word,progressivism_friendslist[word]))\n",
    "  #  if idx > 206 :\n",
    "   #     break"
   ]
  },
  {
   "cell_type": "markdown",
   "metadata": {},
   "source": [
    "# Make a running count of \"scores\" for each friend in the Twitter data"
   ]
  },
  {
   "cell_type": "code",
   "execution_count": null,
   "metadata": {},
   "outputs": [],
   "source": [
    "len(friend_names)"
   ]
  },
  {
   "cell_type": "code",
   "execution_count": null,
   "metadata": {
    "collapsed": true
   },
   "outputs": [],
   "source": [
    "scores = [0] * len(friend_names)                 # Why isn't this working correctly??\n",
    "current_score = 0 \n",
    "\n",
    "for idx, word in enumerate(friend_names) :\n",
    "    if word in progressivism_friendslist :\n",
    "        current_score += progressivism_friendslist[word.lower()]\n",
    "    \n",
    "    scores[idx] = current_score"
   ]
  },
  {
   "cell_type": "markdown",
   "metadata": {},
   "source": [
    "# Write out list of \"scores\" to a .txt file"
   ]
  },
  {
   "cell_type": "code",
   "execution_count": null,
   "metadata": {},
   "outputs": [],
   "source": [
    "for idx, score in enumerate(scores) :\n",
    "        print(\"\\t\".join([str(idx+1),str(score)]) + \"\\n\")"
   ]
  },
  {
   "cell_type": "code",
   "execution_count": null,
   "metadata": {
    "collapsed": true
   },
   "outputs": [],
   "source": []
  },
  {
   "cell_type": "code",
   "execution_count": null,
   "metadata": {
    "collapsed": true
   },
   "outputs": [],
   "source": []
  }
 ],
 "metadata": {
  "kernelspec": {
   "display_name": "Python 3",
   "language": "python",
   "name": "python3"
  },
  "language_info": {
   "codemirror_mode": {
    "name": "ipython",
    "version": 3
   },
   "file_extension": ".py",
   "mimetype": "text/x-python",
   "name": "python",
   "nbconvert_exporter": "python",
   "pygments_lexer": "ipython3",
   "version": "3.6.3"
  }
 },
 "nbformat": 4,
 "nbformat_minor": 2
}
