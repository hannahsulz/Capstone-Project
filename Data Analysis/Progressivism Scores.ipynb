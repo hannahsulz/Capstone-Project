{
 "cells": [
  {
   "cell_type": "markdown",
   "metadata": {},
   "source": [
    "# Pull Friends (of Followers) from API"
   ]
  },
  {
   "cell_type": "code",
   "execution_count": 1,
   "metadata": {
    "collapsed": true
   },
   "outputs": [],
   "source": [
    "import re\n",
    "import tweepy\n",
    "from pprint import pprint \n",
    "from datetime import datetime\n",
    "from time import time\n",
    "import random\n",
    "import csv"
   ]
  },
  {
   "cell_type": "code",
   "execution_count": 2,
   "metadata": {
    "collapsed": true
   },
   "outputs": [],
   "source": [
    "ckey = \"jsWoh9OfKf08Mb46jFwdItFSF\"\n",
    "csecret = \"maRiYYm5GtLZ3fgzeBz8Ly8tMiU5Y198QB5aA7auwQjbC1FoFJ\"\n",
    "atoken = \"922912381109288960-oAFDtpPtisiPWFBZVOKjVxyni64GToA\"\n",
    "asecret = \"6yqGwZ0Z0KekqHBE5AntqiLfZiPl3UGblx6gK5b4sxUhf\"\n",
    "\n",
    "OAUTH_KEYS = {'consumer_key':ckey, 'consumer_secret':csecret,\n",
    " 'access_token_key':atoken, 'access_token_secret':asecret}\n",
    "auth = tweepy.OAuthHandler(OAUTH_KEYS['consumer_key'], OAUTH_KEYS['consumer_secret'])\n",
    "api = tweepy.API(auth, wait_on_rate_limit=True)"
   ]
  },
  {
   "cell_type": "markdown",
   "metadata": {},
   "source": [
    "# Pull Friend handles"
   ]
  },
  {
   "cell_type": "code",
   "execution_count": 6,
   "metadata": {},
   "outputs": [
    {
     "name": "stdout",
     "output_type": "stream",
     "text": [
      "We successfully logged in\n"
     ]
    }
   ],
   "source": [
    "friend_names = []\n",
    "\n",
    "twitter_handle = 'stella_theo39'\n",
    "\n",
    "#list= open('twitter_followers.txt','w')\n",
    "\n",
    "if(api.verify_credentials):\n",
    "    print('We successfully logged in')\n",
    "\n",
    "#user = tweepy.Cursor(api.followers, screen_name=twitter_handle).items()\n",
    "\n",
    "for user in tweepy.Cursor(api.friends, screen_name=twitter_handle).items(200):\n",
    "    friend_names.append(user.screen_name)\n",
    "   # follower_names.append(user.screen_name)\n",
    "   # print(follower_names)\n",
    "    "
   ]
  },
  {
   "cell_type": "code",
   "execution_count": 7,
   "metadata": {},
   "outputs": [
    {
     "name": "stdout",
     "output_type": "stream",
     "text": [
      "['TheXFactor',\n",
      " 'Always',\n",
      " 'maxperrychoco',\n",
      " 'hatzispyrid',\n",
      " 'GemmaAnneStyles',\n",
      " 'MrsAnneTwist',\n",
      " 'zaynmalik',\n",
      " 'Harry_Styles',\n",
      " 'TheEllenShow',\n",
      " 'LiamPayne',\n",
      " 'edsheeran',\n",
      " 'GiGiHadid',\n",
      " 'Louis_Tomlinson',\n",
      " 'Caradelevingne',\n",
      " 'NiallOfficial',\n",
      " 'ddlovato',\n",
      " 'MileyCyrus',\n",
      " 'MartinGarrix',\n",
      " 'travel',\n",
      " 'selenagomez',\n",
      " 'EmmaWatson',\n",
      " 'ArianaGrande']\n"
     ]
    }
   ],
   "source": [
    "pprint(friend_names)"
   ]
  },
  {
   "cell_type": "code",
   "execution_count": 9,
   "metadata": {},
   "outputs": [
    {
     "name": "stdout",
     "output_type": "stream",
     "text": [
      "['thexfactor',\n",
      " 'always',\n",
      " 'maxperrychoco',\n",
      " 'hatzispyrid',\n",
      " 'gemmaannestyles',\n",
      " 'mrsannetwist',\n",
      " 'zaynmalik',\n",
      " 'harry_styles',\n",
      " 'theellenshow',\n",
      " 'liampayne',\n",
      " 'edsheeran',\n",
      " 'gigihadid',\n",
      " 'louis_tomlinson',\n",
      " 'caradelevingne',\n",
      " 'niallofficial',\n",
      " 'ddlovato',\n",
      " 'mileycyrus',\n",
      " 'martingarrix',\n",
      " 'travel',\n",
      " 'selenagomez',\n",
      " 'emmawatson',\n",
      " 'arianagrande']\n"
     ]
    }
   ],
   "source": [
    "friend_names = [w.lower() for w in friend_names]              # casts all words to lowercase\n",
    "pprint(friend_names)"
   ]
  },
  {
   "cell_type": "markdown",
   "metadata": {},
   "source": [
    "# Open 'progressivism_friendslist' / Assign scores"
   ]
  },
  {
   "cell_type": "code",
   "execution_count": 14,
   "metadata": {},
   "outputs": [],
   "source": [
    "filepath = '/Users/Sulz/Desktop/MSBA/Spring/Capstone/capstone-project/Data Analysis/'\n",
    "\n",
    "import csv\n",
    "\n",
    "progressivism_friendslist = {}\n",
    "\n",
    "with open(filepath + \"progressivism_friendslist.csv\",'r', encoding = \"UTF-8\") as infile :\n",
    "    \n",
    " #   next(infile)\n",
    "    for line in infile.readlines() :\n",
    "        line = line.strip().split(\",\")\n",
    "        if line[1] == \"progressive\" :\n",
    "            progressivism_friendslist[line[0]] = 1\n",
    "        else :\n",
    "            progressivism_friendslist[line[0]] = -1"
   ]
  },
  {
   "cell_type": "markdown",
   "metadata": {},
   "source": [
    "# Print scores for 'progressivism_friendslist'"
   ]
  },
  {
   "cell_type": "code",
   "execution_count": 15,
   "metadata": {},
   "outputs": [
    {
     "name": "stdout",
     "output_type": "stream",
     "text": [
      "﻿sarahpalinusa has score -1.\n",
      "johnboehner has score -1.\n",
      "redstate has score -1.\n",
      "glennbeck has score -1.\n",
      "realdonaldtrump has score -1.\n",
      "anncoulter has score -1.\n",
      "tedcruz has score -1.\n",
      "ingrahamangle has score -1.\n",
      "benshapiro has score -1.\n",
      "charliekirk11 has score -1.\n",
      "presssec has score -1.\n",
      "seanhannity has score -1.\n",
      "tomilahren has score -1.\n",
      "kevinolearytv has score -1.\n",
      "stefanmolyneaux has score -1.\n",
      "marksteynonline has score -1.\n",
      "ezralevant has score -1.\n",
      "nntaleb has score -1.\n",
      "lauren_southern has score -1.\n",
      "realjameswoods has score -1.\n",
      "randpaul has score -1.\n",
      "jihadwatchrs has score -1.\n",
      "scrowder has score -1.\n",
      "nigel_farage has score -1.\n",
      "michellemalkin has score -1.\n",
      "prisonplanet has score -1.\n",
      "scottadamssays has score -1.\n",
      "andrewklavan has score -1.\n",
      "gavin_mcInnes has score -1.\n",
      "cernovich has score -1.\n",
      "tuckercarlson has score -1.\n",
      "sheriffclarke has score -1.\n",
      "mitchellvii has score -1.\n",
      "breitbartnews has score -1.\n",
      "jamesokeefelll has score -1.\n",
      "danaperino has score -1.\n",
      "dloesch has score -1.\n",
      "jackposobiec has score -1.\n",
      "bucksexton has score -1.\n",
      "katiepavlich has score -1.\n",
      "marklevinshow has score -1.\n",
      "guypbenson has score -1.\n",
      "dbongino has score -1.\n",
      "allenwest has score -1.\n",
      "greggutfeld has score -1.\n",
      "jimdemint has score -1.\n",
      "jasoninthehouse has score -1.\n",
      "brentbozell has score -1.\n",
      "karlrove has score -1.\n",
      "larryelder has score -1.\n",
      "billoreilly has score -1.\n",
      "nickgillespie has score -1.\n",
      "trobinsonnewera has score -1.\n",
      "michelleobama has score 1.\n",
      "emmawatson has score 1.\n"
     ]
    }
   ],
   "source": [
    "for idx, word in enumerate(progressivism_friendslist) :\n",
    "    print(\"{} has score {}.\".format(word,progressivism_friendslist[word]))\n",
    "    if idx > 206 :\n",
    "        break"
   ]
  },
  {
   "cell_type": "markdown",
   "metadata": {},
   "source": [
    "# Make a running count of \"scores\" for each friend in the Twitter data"
   ]
  },
  {
   "cell_type": "code",
   "execution_count": 16,
   "metadata": {},
   "outputs": [
    {
     "data": {
      "text/plain": [
       "22"
      ]
     },
     "execution_count": 16,
     "metadata": {},
     "output_type": "execute_result"
    }
   ],
   "source": [
    "len(friend_names)"
   ]
  },
  {
   "cell_type": "code",
   "execution_count": 17,
   "metadata": {
    "collapsed": true
   },
   "outputs": [],
   "source": [
    "scores = [0] * len(friend_names)                 # Why isn't this working correctly??\n",
    "current_score = 0 \n",
    "\n",
    "for idx, word in enumerate(friend_names) :\n",
    "    if word in progressivism_friendslist :\n",
    "        current_score += progressivism_friendslist[word.lower()]\n",
    "    \n",
    "    scores[idx] = current_score"
   ]
  },
  {
   "cell_type": "markdown",
   "metadata": {},
   "source": [
    "# Write out list of \"scores\" to a .txt file"
   ]
  },
  {
   "cell_type": "code",
   "execution_count": 18,
   "metadata": {},
   "outputs": [
    {
     "name": "stdout",
     "output_type": "stream",
     "text": [
      "1\t0\n",
      "\n",
      "2\t0\n",
      "\n",
      "3\t0\n",
      "\n",
      "4\t0\n",
      "\n",
      "5\t0\n",
      "\n",
      "6\t0\n",
      "\n",
      "7\t0\n",
      "\n",
      "8\t0\n",
      "\n",
      "9\t0\n",
      "\n",
      "10\t0\n",
      "\n",
      "11\t0\n",
      "\n",
      "12\t0\n",
      "\n",
      "13\t0\n",
      "\n",
      "14\t0\n",
      "\n",
      "15\t0\n",
      "\n",
      "16\t0\n",
      "\n",
      "17\t0\n",
      "\n",
      "18\t0\n",
      "\n",
      "19\t0\n",
      "\n",
      "20\t0\n",
      "\n",
      "21\t1\n",
      "\n",
      "22\t1\n",
      "\n"
     ]
    }
   ],
   "source": [
    "for idx, score in enumerate(scores) :\n",
    "        print(\"\\t\".join([str(idx+1),str(score)]) + \"\\n\")"
   ]
  },
  {
   "cell_type": "code",
   "execution_count": 19,
   "metadata": {
    "collapsed": true
   },
   "outputs": [],
   "source": [
    "with open(filepath + \"friends.txt\",'w') as ofile :\n",
    "    ofile.write(\"word\\tscore\\n\")\n",
    "    for idx, score in enumerate(scores) :\n",
    "        ofile.write(\"\\t\".join([str(idx+1),str(score)]) + \"\\n\")"
   ]
  },
  {
   "cell_type": "code",
   "execution_count": null,
   "metadata": {
    "collapsed": true
   },
   "outputs": [],
   "source": []
  }
 ],
 "metadata": {
  "kernelspec": {
   "display_name": "Python 3",
   "language": "python",
   "name": "python3"
  },
  "language_info": {
   "codemirror_mode": {
    "name": "ipython",
    "version": 3
   },
   "file_extension": ".py",
   "mimetype": "text/x-python",
   "name": "python",
   "nbconvert_exporter": "python",
   "pygments_lexer": "ipython3",
   "version": "3.6.3"
  }
 },
 "nbformat": 4,
 "nbformat_minor": 2
}
